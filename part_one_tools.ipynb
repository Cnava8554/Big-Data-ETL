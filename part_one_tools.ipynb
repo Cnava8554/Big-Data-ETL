{
  "cells": [
    {
      "cell_type": "markdown",
      "metadata": {
        "id": "view-in-github",
        "colab_type": "text"
      },
      "source": [
        "<a href=\"https://colab.research.google.com/github/Cnava8554/Big-Data-ETL/blob/main/part_one_tools.ipynb\" target=\"_parent\"><img src=\"https://colab.research.google.com/assets/colab-badge.svg\" alt=\"Open In Colab\"/></a>"
      ]
    },
    {
      "cell_type": "code",
      "execution_count": 2,
      "metadata": {
        "colab": {
          "base_uri": "https://localhost:8080/"
        },
        "id": "-8eFW_wl1n39",
        "outputId": "af1b349b-9c8a-455a-d502-0dc9e1a12397"
      },
      "outputs": [
        {
          "output_type": "stream",
          "name": "stdout",
          "text": [
            "\r0% [Working]\r            \rGet:1 https://cloud.r-project.org/bin/linux/ubuntu focal-cran40/ InRelease [3,622 B]\n",
            "Ign:2 https://developer.download.nvidia.com/compute/machine-learning/repos/ubuntu2004/x86_64  InRelease\n",
            "Get:3 https://developer.download.nvidia.com/compute/cuda/repos/ubuntu2004/x86_64  InRelease [1,581 B]\n",
            "Hit:4 https://developer.download.nvidia.com/compute/machine-learning/repos/ubuntu2004/x86_64  Release\n",
            "Hit:5 http://archive.ubuntu.com/ubuntu focal InRelease\n",
            "Get:6 http://security.ubuntu.com/ubuntu focal-security InRelease [114 kB]\n",
            "Get:7 https://developer.download.nvidia.com/compute/cuda/repos/ubuntu2004/x86_64  Packages [920 kB]\n",
            "Hit:8 http://ppa.launchpad.net/c2d4u.team/c2d4u4.0+/ubuntu focal InRelease\n",
            "Get:10 http://archive.ubuntu.com/ubuntu focal-updates InRelease [114 kB]\n",
            "Hit:11 http://ppa.launchpad.net/cran/libgit2/ubuntu focal InRelease\n",
            "Hit:12 http://ppa.launchpad.net/deadsnakes/ppa/ubuntu focal InRelease\n",
            "Get:13 http://archive.ubuntu.com/ubuntu focal-backports InRelease [108 kB]\n",
            "Get:14 http://security.ubuntu.com/ubuntu focal-security/main amd64 Packages [2,544 kB]\n",
            "Hit:15 http://ppa.launchpad.net/graphics-drivers/ppa/ubuntu focal InRelease\n",
            "Get:16 http://archive.ubuntu.com/ubuntu focal-updates/restricted amd64 Packages [2,136 kB]\n",
            "Hit:17 http://ppa.launchpad.net/ubuntugis/ppa/ubuntu focal InRelease\n",
            "Get:18 http://security.ubuntu.com/ubuntu focal-security/universe amd64 Packages [1,017 kB]\n",
            "Get:19 http://archive.ubuntu.com/ubuntu focal-updates/main amd64 Packages [3,021 kB]\n",
            "Get:20 http://archive.ubuntu.com/ubuntu focal-updates/universe amd64 Packages [1,313 kB]\n",
            "Fetched 11.3 MB in 3s (3,642 kB/s)\n",
            "Reading package lists... Done\n"
          ]
        }
      ],
      "source": [
        "# Activate Spark in our Colab notebook.\n",
        "import os\n",
        "# Find the latest version of spark 3.2  from http://www.apache.org/dist/spark/ and enter as the spark version\n",
        "# For example:\n",
        "# spark_version = 'spark-3.2.2'\n",
        "spark_version = 'spark-3.3.2'\n",
        "os.environ['SPARK_VERSION']=spark_version\n",
        "\n",
        "# Install Spark and Java\n",
        "!apt-get update\n",
        "!apt-get install openjdk-11-jdk-headless -qq > /dev/null\n",
        "!wget -q http://www.apache.org/dist/spark/$SPARK_VERSION/$SPARK_VERSION-bin-hadoop3.tgz\n",
        "!tar xf $SPARK_VERSION-bin-hadoop3.tgz\n",
        "!pip install -q findspark\n",
        "\n",
        "# Set Environment Variables\n",
        "import os\n",
        "os.environ[\"JAVA_HOME\"] = \"/usr/lib/jvm/java-11-openjdk-amd64\"\n",
        "os.environ[\"SPARK_HOME\"] = f\"/content/{spark_version}-bin-hadoop3\"\n",
        "\n",
        "# Start a SparkSession\n",
        "import findspark\n",
        "findspark.init()"
      ]
    },
    {
      "cell_type": "code",
      "source": [
        "print(os.environ[\"SPARK_HOME\"])"
      ],
      "metadata": {
        "colab": {
          "base_uri": "https://localhost:8080/"
        },
        "id": "M1Bp9KXx7xvQ",
        "outputId": "bdf1eeb4-d0c5-428b-dd71-699d38e97b54"
      },
      "execution_count": 11,
      "outputs": [
        {
          "output_type": "stream",
          "name": "stdout",
          "text": [
            "/content/spark-3.3.2-bin-hadoop2.7\n"
          ]
        }
      ]
    },
    {
      "cell_type": "code",
      "source": [
        "\"C:\\Users\\christian.nava\\Downloads\\spark-3.3.2-bin-hadoop3.tgz\""
      ],
      "metadata": {
        "colab": {
          "base_uri": "https://localhost:8080/"
        },
        "id": "-9eyljST2B8G",
        "outputId": "5a05cfdf-2da8-4c16-e35b-5e8110814057"
      },
      "execution_count": 10,
      "outputs": [
        {
          "output_type": "stream",
          "name": "stdout",
          "text": [
            "Looking in indexes: https://pypi.org/simple, https://us-python.pkg.dev/colab-wheels/public/simple/\n",
            "Requirement already satisfied: pyspark in /usr/local/lib/python3.9/dist-packages (3.3.2)\n",
            "Requirement already satisfied: py4j==0.10.9.5 in /usr/local/lib/python3.9/dist-packages (from pyspark) (0.10.9.5)\n"
          ]
        }
      ]
    },
    {
      "cell_type": "code",
      "execution_count": 3,
      "metadata": {
        "colab": {
          "base_uri": "https://localhost:8080/"
        },
        "id": "BzCrgs0Z1rnw",
        "outputId": "26736942-2e52-43e2-8998-ded9cc95f486"
      },
      "outputs": [
        {
          "output_type": "stream",
          "name": "stdout",
          "text": [
            "--2023-03-16 00:53:34--  https://jdbc.postgresql.org/download/postgresql-42.2.9.jar\n",
            "Resolving jdbc.postgresql.org (jdbc.postgresql.org)... 72.32.157.228, 2001:4800:3e1:1::228\n",
            "Connecting to jdbc.postgresql.org (jdbc.postgresql.org)|72.32.157.228|:443... connected.\n",
            "HTTP request sent, awaiting response... 200 OK\n",
            "Length: 914037 (893K) [application/java-archive]\n",
            "Saving to: ‘postgresql-42.2.9.jar’\n",
            "\n",
            "postgresql-42.2.9.j 100%[===================>] 892.61K  5.46MB/s    in 0.2s    \n",
            "\n",
            "2023-03-16 00:53:34 (5.46 MB/s) - ‘postgresql-42.2.9.jar’ saved [914037/914037]\n",
            "\n"
          ]
        }
      ],
      "source": [
        "# Get postgresql package\n",
        "!wget https://jdbc.postgresql.org/download/postgresql-42.2.9.jar"
      ]
    },
    {
      "cell_type": "code",
      "execution_count": 4,
      "metadata": {
        "id": "0DuBth0V2PR8"
      },
      "outputs": [],
      "source": [
        "# Import Spark and create a SparkSession\n",
        "from pyspark.sql import SparkSession\n",
        "spark = SparkSession.builder.appName(\"BigData-HW-1\").config(\"spark.driver.extraClassPath\",\"/content/postgresql-42.2.9.jar\").getOrCreate()"
      ]
    },
    {
      "cell_type": "markdown",
      "metadata": {
        "id": "D3W2XJVi2CU-"
      },
      "source": [
        "# Extract the Amazon Data into Spark DataFrame"
      ]
    },
    {
      "cell_type": "code",
      "execution_count": 5,
      "metadata": {
        "colab": {
          "base_uri": "https://localhost:8080/"
        },
        "id": "Na_stw7b1wfU",
        "outputId": "ae3611df-3693-4c8c-acfc-6160296d9dbc"
      },
      "outputs": [
        {
          "output_type": "stream",
          "name": "stdout",
          "text": [
            "+-----------+-----------+--------------+----------+--------------+--------------------+----------------+-----------+-------------+-----------+----+-----------------+--------------------+--------------------+-----------+\n",
            "|marketplace|customer_id|     review_id|product_id|product_parent|       product_title|product_category|star_rating|helpful_votes|total_votes|vine|verified_purchase|     review_headline|         review_body|review_date|\n",
            "+-----------+-----------+--------------+----------+--------------+--------------------+----------------+-----------+-------------+-----------+----+-----------------+--------------------+--------------------+-----------+\n",
            "|         US|   49604665|R101MKYIB93PM2|B002RT7K3W|     813282509|DEWALT Bare-Tool ...|           Tools|          5|            0|          1|   N|                Y|    XRP Hammer drill|Very good price. ...| 2012-08-28|\n",
            "|         US|   10750190|R1024JJSPZMP88|B007XGWQ2Y|     173533551|iFixit Pro Tech T...|           Tools|          5|            1|          1|   N|                Y|   Awesome took kit!|I have had a few ...| 2014-07-28|\n",
            "|         US|   14908188|R102GVOTB8CGWR|B00I04J2OI|     888761841|Columbia River Kn...|           Tools|          5|            0|          0|   N|                Y|          Five Stars|Great fits well s...| 2015-07-12|\n",
            "|         US|   25453680|R102RQU98Y6TLD|B0011E6H88|     146248232|Wall Lenk BT500 B...|           Tools|          5|            0|          0|   N|                Y|              spiffy|This was a Christ...| 2013-03-12|\n",
            "|         US|   12334123|R1042GFR77Z4AB|B00KQU1ENG|     809195352|DEWALT DCB205-2 2...|           Tools|          5|            3|          4|   N|                Y|A really good pur...|This batteries ru...| 2014-11-03|\n",
            "|         US|   26633734|R104BTKISM889K|B004FWHOVC|     977333517|SE JT6218 5-Piece...|           Tools|          3|            0|          0|   N|                Y|Cheap watch kit a...|Cheap watch kit, ...| 2013-11-05|\n",
            "|         US|   12026456|R104PBEN7LFH03|B003D3N7WO|     175335407|Astro 9589 4-Piec...|           Tools|          5|            0|          0|   N|                Y|        Great tools.|I was really surp...| 2014-03-01|\n",
            "|         US|   51184875|R105EQ5WO5V47A|B00006JBL3|     430796809|Racor Bike Lifts ...|           Tools|          5|            0|          0|   N|                Y|Easy to install, ...|I use it to lift ...| 2012-06-19|\n",
            "|         US|   16917983|R105Z5FCA8G3NL|B00CHJHA8W|     767610957|Ernst Manufacturi...|           Tools|          4|            0|          0|   N|                Y|          Four Stars|Nice replacement ...| 2014-11-07|\n",
            "|         US|   23175152|R1062KHF4BHKAP|B001M0O170|     735138046|GearWrench 80066 ...|           Tools|          5|            0|          0|   N|                Y|          Five Stars|Good quality scre...| 2015-02-16|\n",
            "|         US|   11737996|R107NZ3UKAR5RG|B00F9Y1OS4|     662388793|TEKTON 1/2-Inch D...|           Tools|          5|            0|          0|   N|                Y|            nice set|So far so good. T...| 2014-07-09|\n",
            "|         US|   13132834|R107UALI3WGGXA|B003EIKBUY|     175271596|Maasdam Pow'R Lif...|           Tools|          5|            3|          3|   N|                Y|Great for what i ...|i needed a small,...| 2012-05-01|\n",
            "|         US|   27662550|R108SUZQ6L9M5J|B007DKXPP2|     795721914|IIT 76401 1000-Fe...|           Tools|          5|            1|          1|   N|                Y|... a yardage cou...|I used this to ma...| 2015-04-20|\n",
            "|         US|   28717916|R10AAOQARC61CW|B003Z3SLE6|     181632096|Highbeam Recharge...|           Tools|          5|            0|          0|   N|                Y|      So far so good|I havent had to r...| 2013-02-11|\n",
            "|         US|   31050748|R10AQO77ICATDM|B008NM6VFU|     141303127|Crescent DB24  Ad...|           Tools|          5|            1|          1|   N|                Y|          great tool|gave it as a gift...| 2014-06-05|\n",
            "|         US|   26870615|R10CXNVYLDCLM5|B00D667A0S|     163461534|HPC Broken Key Ex...|           Tools|          4|            0|          0|   N|                Y|Great for beginners!|A bit expensive f...| 2015-04-01|\n",
            "|         US|   44123638|R10E2VBZYUGNX4|B0058EDX1G|     535279640|Wood Plier Rack w...|           Tools|          5|            0|          0|   N|                Y|          Very Nice!|Typical Eurotool ...| 2015-03-29|\n",
            "|         US|   24807919|R10FMU6QFPRQNE|B00004TBL1|     432741757|Great Neck Saw PS...|           Tools|          1|            0|          0|   N|                Y|              review|This item is very...| 2013-08-01|\n",
            "|         US|   22325206|R10FPWR88WDNYO|B00A8V2KMW|     594437993|Chef Works Cool V...|           Tools|          5|            1|          1|   N|                Y|       Perfect Pants|great quality, ha...| 2013-08-18|\n",
            "|         US|   35875076|R10FQE5ZQQTHH6|B0000302S4|     358909214|Skil Twin Battery...|           Tools|          1|            5|          5|   N|                N|         FlexCharger|I bought the char...| 2008-06-05|\n",
            "+-----------+-----------+--------------+----------+--------------+--------------------+----------------+-----------+-------------+-----------+----+-----------------+--------------------+--------------------+-----------+\n",
            "only showing top 20 rows\n",
            "\n"
          ]
        }
      ],
      "source": [
        "# Read in the data from an S3 Bucket\n",
        "from pyspark import SparkFiles\n",
        "\n",
        "url = \"https://s3.amazonaws.com/big-data-etl-3.13.2023/amazon_reviews_us_Tools_v1_00.tsv.gz\"\n",
        "spark.sparkContext.addFile(url)\n",
        "df = spark.read.csv(SparkFiles.get(\"amazon_reviews_us_Tools_v1_00.tsv.gz\"), sep=\"\\t\", header=True)\n",
        "\n",
        "df = df.drop_duplicates()\n",
        "\n",
        "df = df.dropna()\n",
        "\n",
        "df.show()"
      ]
    },
    {
      "cell_type": "code",
      "execution_count": 6,
      "metadata": {
        "colab": {
          "base_uri": "https://localhost:8080/"
        },
        "id": "Cayz-3Q52IM3",
        "outputId": "990f5c73-e13f-4170-e572-a704ce54e1b2"
      },
      "outputs": [
        {
          "output_type": "execute_result",
          "data": {
            "text/plain": [
              "1740974"
            ]
          },
          "metadata": {},
          "execution_count": 6
        }
      ],
      "source": [
        "# Get the number of rows in the DataFrame.\n",
        "df.count()"
      ]
    },
    {
      "cell_type": "markdown",
      "metadata": {
        "id": "C9U0rkGZ2eu7"
      },
      "source": [
        "# Transform the Data"
      ]
    },
    {
      "cell_type": "markdown",
      "source": [
        "## Create the \"review_id_table\"."
      ],
      "metadata": {
        "id": "dUoftWoKtM_c"
      }
    },
    {
      "cell_type": "code",
      "execution_count": 10,
      "metadata": {
        "colab": {
          "base_uri": "https://localhost:8080/"
        },
        "id": "2tMYkSIk2d-m",
        "outputId": "01e2400a-5556-4e24-d3dc-c3457290791c"
      },
      "outputs": [
        {
          "output_type": "stream",
          "name": "stdout",
          "text": [
            "+--------------+-----------+----------+--------------+-----------+\n",
            "|     review_id|customer_id|product_id|product_parent|review_date|\n",
            "+--------------+-----------+----------+--------------+-----------+\n",
            "|R101MKYIB93PM2|   49604665|B002RT7K3W|     813282509| 2012-08-28|\n",
            "|R1024JJSPZMP88|   10750190|B007XGWQ2Y|     173533551| 2014-07-28|\n",
            "|R102GVOTB8CGWR|   14908188|B00I04J2OI|     888761841| 2015-07-12|\n",
            "|R102RQU98Y6TLD|   25453680|B0011E6H88|     146248232| 2013-03-12|\n",
            "|R1042GFR77Z4AB|   12334123|B00KQU1ENG|     809195352| 2014-11-03|\n",
            "|R104BTKISM889K|   26633734|B004FWHOVC|     977333517| 2013-11-05|\n",
            "|R104PBEN7LFH03|   12026456|B003D3N7WO|     175335407| 2014-03-01|\n",
            "|R105EQ5WO5V47A|   51184875|B00006JBL3|     430796809| 2012-06-19|\n",
            "|R105Z5FCA8G3NL|   16917983|B00CHJHA8W|     767610957| 2014-11-07|\n",
            "|R1062KHF4BHKAP|   23175152|B001M0O170|     735138046| 2015-02-16|\n",
            "|R107NZ3UKAR5RG|   11737996|B00F9Y1OS4|     662388793| 2014-07-09|\n",
            "|R107UALI3WGGXA|   13132834|B003EIKBUY|     175271596| 2012-05-01|\n",
            "|R108SUZQ6L9M5J|   27662550|B007DKXPP2|     795721914| 2015-04-20|\n",
            "|R10AAOQARC61CW|   28717916|B003Z3SLE6|     181632096| 2013-02-11|\n",
            "|R10AQO77ICATDM|   31050748|B008NM6VFU|     141303127| 2014-06-05|\n",
            "|R10CXNVYLDCLM5|   26870615|B00D667A0S|     163461534| 2015-04-01|\n",
            "|R10E2VBZYUGNX4|   44123638|B0058EDX1G|     535279640| 2015-03-29|\n",
            "|R10FMU6QFPRQNE|   24807919|B00004TBL1|     432741757| 2013-08-01|\n",
            "|R10FPWR88WDNYO|   22325206|B00A8V2KMW|     594437993| 2013-08-18|\n",
            "|R10FQE5ZQQTHH6|   35875076|B0000302S4|     358909214| 2008-06-05|\n",
            "+--------------+-----------+----------+--------------+-----------+\n",
            "only showing top 20 rows\n",
            "\n"
          ]
        }
      ],
      "source": [
        "from pyspark.sql.functions import to_date, col\n",
        "# Create the \"review_id_df\" DataFrame with the appropriate columns and data types.\n",
        "review_id = df.select(\"review_id\", \"customer_id\", \"product_id\", \"product_parent\", to_date(\"review_date\", \"yyyy-MM-dd\").alias(\"review_date\"))\n",
        "\n",
        "review_id = review_id.withColumn(\"customer_id\", col(\"customer_id\").cast(\"integer\")).withColumn(\"product_parent\", col(\"product_parent\").cast(\"integer\"))\n",
        "\n",
        "review_id.show()"
      ]
    },
    {
      "cell_type": "markdown",
      "source": [
        "## Create the \"products\" Table"
      ],
      "metadata": {
        "id": "aAVCFjXhtXO8"
      }
    },
    {
      "cell_type": "code",
      "execution_count": 11,
      "metadata": {
        "id": "g9gTNhT62je4",
        "colab": {
          "base_uri": "https://localhost:8080/"
        },
        "outputId": "4a356657-15ef-41e5-d72e-3bbce85edde3"
      },
      "outputs": [
        {
          "output_type": "stream",
          "name": "stdout",
          "text": [
            "+----------+--------------------+\n",
            "|product_id|       product_title|\n",
            "+----------+--------------------+\n",
            "|B000JNNWQ2|IRWIN Tools VISE-...|\n",
            "|B000OECQOK|Titan 17005 Stain...|\n",
            "|B0045W0MD4|The American Red ...|\n",
            "|B00DQQ9ET8|de.power DP-010AA...|\n",
            "|B001P30BQE|DEWALT DG5204 Pro...|\n",
            "|B0002TKID8|Channellock GLS-1...|\n",
            "|B003O684GO|Tajima AC-500B 3/...|\n",
            "|B00T96T070|UltraFire WF-68B ...|\n",
            "|B001445114|Stiletto AG-102 A...|\n",
            "|B00002X1ZX|Stanley Tools 28-...|\n",
            "|B0006IE7OQ|Neiko 00561A Heav...|\n",
            "|B00C8STBPC|ZFE 42Pcs Brass S...|\n",
            "|B00004SUQN|Malco M2006 Max20...|\n",
            "|B000TCZUWM|Et18 RS Mizar Ele...|\n",
            "|B000189RGO|Eklind 13218 Metr...|\n",
            "|B009SB5RHS|Huntsman® - W20 4...|\n",
            "|B0002IXQHO|Robert Sorby 67HS...|\n",
            "|B004Q05TTC|Superior Tool 375...|\n",
            "|B00012Y38W|Bondhus 20199 Bal...|\n",
            "|B003YL4954|PORTER-CABLE NS18...|\n",
            "+----------+--------------------+\n",
            "only showing top 20 rows\n",
            "\n"
          ]
        }
      ],
      "source": [
        "# Create the \"products_df\" DataFrame that drops the duplicates in the \"product_id\" and \"product_title columns. \n",
        "from pyspark.sql.functions import to_date, col, substring \n",
        "products = df.select(\"product_id\", substring(col(\"product_title\"), 1,300).alias(\"product_title\"))\n",
        "\n",
        "# Drop duplicates\n",
        "products = products.drop_duplicates()\n",
        "\n",
        "# Show the resulting DataFrame\n",
        "products.show()\n",
        "\n"
      ]
    },
    {
      "cell_type": "markdown",
      "source": [
        "## Create the \"customers\" Table"
      ],
      "metadata": {
        "id": "LJHuZ9zut0e5"
      }
    },
    {
      "cell_type": "code",
      "execution_count": 12,
      "metadata": {
        "colab": {
          "base_uri": "https://localhost:8080/"
        },
        "id": "_pF2Vf3c2n2O",
        "outputId": "ca75624d-adfd-4f43-ba52-462ad33086d6"
      },
      "outputs": [
        {
          "output_type": "stream",
          "name": "stdout",
          "text": [
            "+-----------+--------------+\n",
            "|customer_id|customer_count|\n",
            "+-----------+--------------+\n",
            "|   19697083|            26|\n",
            "|   40354137|             2|\n",
            "|    7053720|             1|\n",
            "|   50429720|            92|\n",
            "|   35729428|             7|\n",
            "|   13021566|             2|\n",
            "|   21837304|             1|\n",
            "|   28785149|             3|\n",
            "|   36663024|             1|\n",
            "|    6699560|             2|\n",
            "|   17967296|             1|\n",
            "|   48415930|             2|\n",
            "|   10828210|             1|\n",
            "|   46861820|             1|\n",
            "|   10216459|             1|\n",
            "|   41489840|             1|\n",
            "|   23290046|            12|\n",
            "|   15977325|             8|\n",
            "|    8297781|             1|\n",
            "|   29910871|             2|\n",
            "+-----------+--------------+\n",
            "only showing top 20 rows\n",
            "\n"
          ]
        }
      ],
      "source": [
        "# Create the \"customers_df\" DataFrame that groups the data on the \"customer_id\" by the number of times a customer reviewed a product.  \n",
        "customers = df.groupBy(\"customer_id\").agg({\"customer_id\": \"count\"}).withColumnRenamed(\"count(customer_id)\", \"customer_count\").withColumn(\"customer_id\", col(\"customer_id\").cast(\"integer\"))\n",
        "\n",
        "customers.show()"
      ]
    },
    {
      "cell_type": "markdown",
      "source": [
        "## Create the \"vine_table\"."
      ],
      "metadata": {
        "id": "8SbTasxbuXGK"
      }
    },
    {
      "cell_type": "code",
      "execution_count": 13,
      "metadata": {
        "colab": {
          "base_uri": "https://localhost:8080/"
        },
        "id": "WHQKbmCE2p3Q",
        "outputId": "e2591b60-d21e-4181-f857-2e5303ce348b"
      },
      "outputs": [
        {
          "output_type": "stream",
          "name": "stdout",
          "text": [
            "+--------------+-----------+-------------+-----------+----+\n",
            "|     review_id|star_rating|helpful_votes|total_votes|vine|\n",
            "+--------------+-----------+-------------+-----------+----+\n",
            "|R101MKYIB93PM2|          5|            0|          1|   N|\n",
            "|R1024JJSPZMP88|          5|            1|          1|   N|\n",
            "|R102GVOTB8CGWR|          5|            0|          0|   N|\n",
            "|R102RQU98Y6TLD|          5|            0|          0|   N|\n",
            "|R1042GFR77Z4AB|          5|            3|          4|   N|\n",
            "|R104BTKISM889K|          3|            0|          0|   N|\n",
            "|R104PBEN7LFH03|          5|            0|          0|   N|\n",
            "|R105EQ5WO5V47A|          5|            0|          0|   N|\n",
            "|R105Z5FCA8G3NL|          4|            0|          0|   N|\n",
            "|R1062KHF4BHKAP|          5|            0|          0|   N|\n",
            "|R107NZ3UKAR5RG|          5|            0|          0|   N|\n",
            "|R107UALI3WGGXA|          5|            3|          3|   N|\n",
            "|R108SUZQ6L9M5J|          5|            1|          1|   N|\n",
            "|R10AAOQARC61CW|          5|            0|          0|   N|\n",
            "|R10AQO77ICATDM|          5|            1|          1|   N|\n",
            "|R10CXNVYLDCLM5|          4|            0|          0|   N|\n",
            "|R10E2VBZYUGNX4|          5|            0|          0|   N|\n",
            "|R10FMU6QFPRQNE|          1|            0|          0|   N|\n",
            "|R10FPWR88WDNYO|          5|            1|          1|   N|\n",
            "|R10FQE5ZQQTHH6|          1|            5|          5|   N|\n",
            "+--------------+-----------+-------------+-----------+----+\n",
            "only showing top 20 rows\n",
            "\n"
          ]
        }
      ],
      "source": [
        "# Create the \"vine_df\" DataFrame that has the \"review_id\", \"star_rating\", \"helpful_votes\", \"total_votes\", and \"vine\" columns. \n",
        "vine = df.select(\"review_id\", \"star_rating\", \"helpful_votes\", \"total_votes\", \"vine\") \\\n",
        "            .withColumn(\"star_rating\", col(\"star_rating\").cast(\"integer\")) \\\n",
        "            .withColumn(\"helpful_votes\", col(\"helpful_votes\").cast(\"integer\")) \\\n",
        "            .withColumn(\"total_votes\", col(\"total_votes\").cast(\"integer\"))\n",
        "\n",
        "vine.show()\n",
        "\n"
      ]
    },
    {
      "cell_type": "markdown",
      "metadata": {
        "id": "I8aTsEjZ2s6L"
      },
      "source": [
        "# Load"
      ]
    },
    {
      "cell_type": "code",
      "execution_count": null,
      "metadata": {
        "id": "W4dzUKfI2vXM"
      },
      "outputs": [],
      "source": [
        "mode = \"append\"\n",
        "jdbc_url=\"jdbc:postgresql://<endpoint>:5432/my_data_class_db\"\n",
        "config = {\"user\":\"postgres\", \"password\": \"<password>\", \"driver\":\"org.postgresql.Driver\"}"
      ]
    },
    {
      "cell_type": "code",
      "execution_count": null,
      "metadata": {
        "id": "iOxKqMsD2yVs"
      },
      "outputs": [],
      "source": [
        "# Write review_id_df to table in RDS\n",
        "review_id.write.jdbc(url=jdbc_url, table='review_id_table', mode=mode, properties=config)"
      ]
    },
    {
      "cell_type": "code",
      "execution_count": null,
      "metadata": {
        "id": "pPXyGVE-2yPJ"
      },
      "outputs": [],
      "source": [
        "# Write products_df to table in RDS\n"
      ]
    },
    {
      "cell_type": "code",
      "execution_count": null,
      "metadata": {
        "id": "aHbca4zN2yIa"
      },
      "outputs": [],
      "source": [
        "# Write customers_df to table in RDS\n"
      ]
    },
    {
      "cell_type": "code",
      "execution_count": null,
      "metadata": {
        "id": "2HfOFneW2x_F"
      },
      "outputs": [],
      "source": [
        "# Write vine_df to table in RDS\n"
      ]
    }
  ],
  "metadata": {
    "colab": {
      "provenance": [],
      "include_colab_link": true
    },
    "kernelspec": {
      "display_name": "Python 3",
      "language": "python",
      "name": "python3"
    },
    "language_info": {
      "codemirror_mode": {
        "name": "ipython",
        "version": 3
      },
      "file_extension": ".py",
      "mimetype": "text/x-python",
      "name": "python",
      "nbconvert_exporter": "python",
      "pygments_lexer": "ipython3",
      "version": "3.8.8"
    }
  },
  "nbformat": 4,
  "nbformat_minor": 0
}